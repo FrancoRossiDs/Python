num2=10
num2=str(num2)
sumA=num+(num2)
print(sumA)