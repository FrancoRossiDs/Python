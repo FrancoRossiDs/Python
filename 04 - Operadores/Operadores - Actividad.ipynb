{
 "cells": [
  {
   "cell_type": "markdown",
   "metadata": {},
   "source": [
    "## Operadores - Actividad"
   ]
  },
  {
   "cell_type": "markdown",
   "metadata": {},
   "source": [
    "1) Pedir al usuario dos números y mostrar por pantalla la suma de ellos."
   ]
  },
  {
   "cell_type": "code",
   "execution_count": 15,
   "metadata": {},
   "outputs": [
    {
     "name": "stdout",
     "output_type": "stream",
     "text": [
      "El valor del perimetro es de 17\n"
     ]
    }
   ],
   "source": [
    "num1=int(input(\"Ingrese el primer número\"))\n",
    "num2=int(input(\"Ingrese el segundo número\"))\n",
    "\n",
    "suma=num1+num2\n",
    "print(f\"El valor del perimetro es de {suma}\")"
   ]
  },
  {
   "cell_type": "markdown",
   "metadata": {},
   "source": [
    "2) Calcular el perímetro y área de un rectángulo dada su base y su altura (el usuario debe introducir por teclado los dos valores)."
   ]
  },
  {
   "cell_type": "code",
   "execution_count": 6,
   "metadata": {},
   "outputs": [
    {
     "name": "stdout",
     "output_type": "stream",
     "text": [
      "El valor del perimetro es de 50\n"
     ]
    }
   ],
   "source": [
    "bas=int(input(\"Ingrese el valor de la base\"))\n",
    "al=int(input(\"Ingrese el valor de la altura\"))\n",
    "\n",
    "perimetro=bas*al\n",
    "print(f\"El valor del perimetro es de {perimetro}\")"
   ]
  },
  {
   "cell_type": "markdown",
   "metadata": {},
   "source": [
    "3) Calcular el resultado de elevar un número entero a otro número entero (por ejemplo, 5 elevado a 3 = 5^3 = 5*5*5)."
   ]
  },
  {
   "cell_type": "code",
   "execution_count": 8,
   "metadata": {},
   "outputs": [
    {
     "name": "stdout",
     "output_type": "stream",
     "text": [
      "El resultado del primer número elevado el segundo es 3200000\n"
     ]
    }
   ],
   "source": [
    "ele1=int(input(\"Ingrese el primer número\"))\n",
    "ele2=int(input(\"Ingrese el segundo número\"))\n",
    "\n",
    "elevado=ele1**ele2\n",
    "print(f\"El resultado del primer número elevado el segundo es {elevado}\")"
   ]
  },
  {
   "cell_type": "markdown",
   "metadata": {},
   "source": [
    "4) Escribe un programa que convierta grados Celsius a grados Fahrenheit utilizando la fórmula: **F = (C * 9/5) + 32**"
   ]
  },
  {
   "cell_type": "code",
   "execution_count": 10,
   "metadata": {},
   "outputs": [
    {
     "name": "stdout",
     "output_type": "stream",
     "text": [
      "El valor de la temperatura pasada a fahrenheit es 212.0°F\n"
     ]
    }
   ],
   "source": [
    "celsius_str=input(\"Ingrese el valor de los grados en celsius\")\n",
    "celsius=int(celsius_str)\n",
    "fahrenheit=(celsius*9/5)+32\n",
    "print(f\"El valor de la temperatura pasada a fahrenheit es {fahrenheit}°F\")"
   ]
  },
  {
   "cell_type": "markdown",
   "metadata": {},
   "source": [
    "5) Pedir al usuario su edad y mostrar por pantalla si es mayor de edad o no. (Mayor de edad >= 18)"
   ]
  },
  {
   "cell_type": "code",
   "execution_count": 8,
   "metadata": {},
   "outputs": [
    {
     "name": "stdout",
     "output_type": "stream",
     "text": [
      "Usted es mayor de edad\n"
     ]
    }
   ],
   "source": [
    "edad=int(input(\"Ingrese su edad\"))\n",
    "if (edad >= 18):\n",
    "    print(\"Usted es mayor de edad\")\n",
    "else:\n",
    "    print(\"Usted es menor de edad\")"
   ]
  },
  {
   "cell_type": "markdown",
   "metadata": {},
   "source": [
    "6) Comprobar si el numero ingresado por el usuario es par o impar."
   ]
  },
  {
   "cell_type": "code",
   "execution_count": 17,
   "metadata": {},
   "outputs": [
    {
     "name": "stdout",
     "output_type": "stream",
     "text": [
      "El número ingresado es par\n"
     ]
    }
   ],
   "source": [
    "num3=int(input(\"Ingrese un número para comprobar si es paro impar\"))\n",
    "\n",
    "if(num3 % 2 ==0):\n",
    "    print(\"El número ingresado es par\")\n",
    "else:\n",
    "    print(\"El número ingresado es impar\")"
   ]
  },
  {
   "cell_type": "markdown",
   "metadata": {},
   "source": [
    "7) Pedir al usuario que ingrese su dirección email y luego mostrar un mensaje indicando si la dirección es válida o no. Una dirección se considerará válida si contiene el símbolo \"@\"."
   ]
  },
  {
   "cell_type": "code",
   "execution_count": 18,
   "metadata": {},
   "outputs": [
    {
     "name": "stdout",
     "output_type": "stream",
     "text": [
      "Mail válido\n"
     ]
    }
   ],
   "source": [
    "mail=input(\"Ingrese su mail\")\n",
    "if (\"@\" in mail):\n",
    "    print(\"Mail ingresado es válido\")\n",
    "else:\n",
    "    print(\"El Mail ingresado no es valido\")"
   ]
  },
  {
   "cell_type": "markdown",
   "metadata": {},
   "source": [
    "8) Dado un número de dos cifras, diseñe un algoritmo que permita obtener el número invertido. Ejemplo, si se introduce 23 que muestre 32. (Recordar que las cadenas pueden tratarse como listas de caracteres)."
   ]
  },
  {
   "cell_type": "code",
   "execution_count": 1,
   "metadata": {},
   "outputs": [
    {
     "name": "stdout",
     "output_type": "stream",
     "text": [
      "25\n",
      "52\n"
     ]
    }
   ],
   "source": [
    "num_derecho_int=int(input(\"Ingrese un número\"))\n",
    "num_derecho_str=str(num_derecho_int)\n",
    "print(num_derecho_str)\n",
    "invertido=f\"{num_derecho_str[1]}{num_derecho_str[0]}\"\n",
    "print(invertido)"
   ]
  },
  {
   "cell_type": "markdown",
   "metadata": {},
   "source": [
    "9) Crea un programa que pida al usuario dos números y muestre True si ambos son mayores que 10."
   ]
  },
  {
   "cell_type": "code",
   "execution_count": null,
   "metadata": {},
   "outputs": [],
   "source": [
    "uno_num=int(input(\"Ingrese el primer número\"))\n",
    "dos_num=int(input(\"Ingrese el segundo número\"))\n",
    "if(uno_num>10 and dos_num>10):\n",
    "    print(f\"Los dos números son mayores de 10\")\n",
    "elif(uno_num<=10 and dos_num<=10 ):\n",
    "    print(\"Dos los números son menores de 10\")\n",
    "else:{print(\"Uno de los dos números en menor de 10\")}"
   ]
  },
  {
   "cell_type": "markdown",
   "metadata": {},
   "source": [
    "10) Escribe un programa que verifique si un número ingresado por el usuario es divisible por 3 y por 5."
   ]
  },
  {
   "cell_type": "code",
   "execution_count": 5,
   "metadata": {},
   "outputs": [
    {
     "name": "stdout",
     "output_type": "stream",
     "text": [
      "El número ingresando no entre divisible ni entre 3 ni 5\n"
     ]
    }
   ],
   "source": [
    "div_num=int(input(\"Ingrese un número\"))\n",
    "if(div_num % 3==0 and div_num % 5 == 0):\n",
    "    print(\"El número ingresado en divisible entre 3 y entre 5\")\n",
    "elif (div_num % 3==0 and div_num % 5 != 0):\n",
    "    print(\"El número ingresado en divisible entre 3 pero no entre 5\")\n",
    "elif (div_num % 3!=0 and div_num % 5 == 0):\n",
    "    print(\"El número ingresado en divisible entre 5 pero no entre 3\")\n",
    "else: (print(\"El número ingresando no es divisible ni entre 3 ni 5\"))"
   ]
  },
  {
   "cell_type": "markdown",
   "metadata": {},
   "source": [
    "11) Utilizando la información del punto 5, preguntar al usuario si posee carnet de conducir, luego verificar si puede conducir un automóvil."
   ]
  },
  {
   "cell_type": "code",
   "execution_count": 15,
   "metadata": {},
   "outputs": [
    {
     "name": "stdout",
     "output_type": "stream",
     "text": [
      "Usted no tiene licencia, no puede conducir\n"
     ]
    }
   ],
   "source": [
    "if (edad>=18):\n",
    "    res=input(\"Usted tiene licencia de conducir\")\n",
    "    if(res.lower()==\"si\"):\n",
    "        print(\"Usted tiene licencia, puede conducir un auto\")\n",
    "    else:\n",
    "        print(\"Usted no tiene licencia, no puede conducir\")\n",
    "else:\n",
    "    print(\"Usted no tiene edad para conducir\")"
   ]
  },
  {
   "cell_type": "markdown",
   "metadata": {},
   "source": [
    "12) Pide al usuario un número y verifica si es positivo y no es mayor que 100."
   ]
  },
  {
   "cell_type": "code",
   "execution_count": 19,
   "metadata": {},
   "outputs": [
    {
     "name": "stdout",
     "output_type": "stream",
     "text": [
      "El número ingresado es negativo\n"
     ]
    }
   ],
   "source": [
    "num_c=int(input(\"Ingrese un número\"))\n",
    "if(num_c>0 and num_c<100):\n",
    "    print(\"El numero ingresado es positivo y menor que 100\")\n",
    "elif(num_c>0 and num_c>100):\n",
    "    print(\"El numero ingresado es positivo y mayor que 100\")\n",
    "else:\n",
    "    print(\"El número ingresado es negativo\")"
   ]
  },
  {
   "cell_type": "markdown",
   "metadata": {},
   "source": [
    "13) Crear un programa que valide si un número ingresado por el usuario es par y mayor que 20."
   ]
  },
  {
   "cell_type": "code",
   "execution_count": 28,
   "metadata": {},
   "outputs": [
    {
     "name": "stdout",
     "output_type": "stream",
     "text": [
      "El número ingresado es par y negativo\n"
     ]
    }
   ],
   "source": [
    "num_p=int(input(\"Ingrese un número\"))\n",
    "if(num_p % 2==0  and num_p>20):\n",
    "    print(\"El numero ingresado es par y mayor a 20\")\n",
    "elif(num_p % 2==0  and num_p<0):\n",
    "    print(\"El número ingresado es par y negativo\")\n",
    "elif(num_p % 2==0  and num_p<20):\n",
    "    print(\"El numero ingresado es par y menor a 20\")\n",
    "else:\n",
    "    print(\"El número ingresado es impar\")"
   ]
  },
  {
   "cell_type": "markdown",
   "metadata": {},
   "source": [
    "14) Dada la variable **numero = 5**, realizar la operación necesaria para que número sea igual a 8. Luego imprimir en pantalla el nuevo valor de número y realizar una nueva operación para que el valor de número sea igual a 4 y mostrar en pantalla el nuevo valor."
   ]
  },
  {
   "cell_type": "code",
   "execution_count": 1,
   "metadata": {},
   "outputs": [
    {
     "name": "stdout",
     "output_type": "stream",
     "text": [
      "El numero original vale 5\n",
      "Ahora vale 8\n",
      "Ahora vale 4\n"
     ]
    }
   ],
   "source": [
    "numero=5\n",
    "if(numero==5):\n",
    "    print(f\"El numero original vale {numero}\")\n",
    "    numero+=3\n",
    "    print(f\"Ahora vale {numero}\")\n",
    "    numero-=4\n",
    "    print(f\"Ahora vale {numero}\")\n"
   ]
  },
  {
   "cell_type": "markdown",
   "metadata": {},
   "source": [
    "15) Dadas las variables altura = \"10\" y base = 5, calcular el área de un triángulo y mostrar el resultado en pantalla. ¿Por qué el resultado es un error? ¿Cómo lo corregirías?\n"
   ]
  },
  {
   "cell_type": "code",
   "execution_count": 33,
   "metadata": {},
   "outputs": [
    {
     "name": "stdout",
     "output_type": "stream",
     "text": [
      "Da un error debido a que altura es una cadena mientras que base en in integer\n",
      "Se podría corregir pasando altura a un int\n",
      "25.0\n"
     ]
    }
   ],
   "source": [
    "altura=\"10\"\n",
    "base=5\n",
    "print(\"Da un error debido a que altura es una cadena mientras que base en in integer\")\n",
    "\n",
    "print(\"Se podría corregir pasando altura a un int\")\n",
    "print(base*(int(altura)/2))"
   ]
  },
  {
   "cell_type": "markdown",
   "metadata": {},
   "source": [
    "16) Crea un programa que calcule el promedio de tres calificaciones ingresadas por el usuario, y comprobar si el alumno aprobó o no (aprueba con nota mayor a 6)."
   ]
  },
  {
   "cell_type": "code",
   "execution_count": 39,
   "metadata": {},
   "outputs": [
    {
     "name": "stdout",
     "output_type": "stream",
     "text": [
      "Aprobado\n"
     ]
    }
   ],
   "source": [
    "pro_uno=int(input(\"Ingrese la primera nota\"))\n",
    "pro_dos=int(input(\"Ingrese la segunda nota\"))\n",
    "pro_tres=int(input(\"Ingrese la tercera nota\"))\n",
    "\n",
    "suma_pro=pro_uno+pro_dos+pro_tres\n",
    "\n",
    "if((suma_pro/3)>6):\n",
    "    print(\"Aprobado\")\n",
    "else:\n",
    "    print(\"Desaprobado\")"
   ]
  },
  {
   "cell_type": "markdown",
   "metadata": {},
   "source": [
    "17) Pide al usuario su edad y calcula cuántos días, horas y minutos ha vivido aproximadamente (asumiendo 365 días por año)."
   ]
  },
  {
   "cell_type": "code",
   "execution_count": 44,
   "metadata": {},
   "outputs": [
    {
     "name": "stdout",
     "output_type": "stream",
     "text": [
      "Usted ha vivido 7200 dias, 172800 horas, 10368000 minutos. 622080000 segundos\n"
     ]
    }
   ],
   "source": [
    "edad_usu=int(input(\"Ingrese su edad\"))\n",
    "m=edad_usu*12\n",
    "d=m*30\n",
    "h=d*24\n",
    "min=h*60\n",
    "seg=min*60\n",
    "print(f\"Usted ha vivido {d} dias, {h} horas, {min} minutos, {seg} segundos\")"
   ]
  },
  {
   "cell_type": "markdown",
   "metadata": {},
   "source": [
    "18) Crea un programa que verifique si un número ingresado por el usuario es múltiplo de 4 y de 6 al mismo tiempo."
   ]
  },
  {
   "cell_type": "code",
   "execution_count": 51,
   "metadata": {},
   "outputs": [
    {
     "name": "stdout",
     "output_type": "stream",
     "text": [
      "El número ingresando no es divisible ni entre 4 ni 6\n"
     ]
    }
   ],
   "source": [
    "div_num_dos=int(input(\"Ingrese un número\"))\n",
    "if(div_num_dos % 4==0 and div_num_dos % 6 == 0):\n",
    "    print(\"El número ingresado en divisible entre 4 y entre 6\")\n",
    "elif (div_num_dos % 4==0 and div_num_dos % 6 != 0):\n",
    "    print(\"El número ingresado en divisible entre 4 pero no entre 6\")\n",
    "elif (div_num_dos % 4!=0 and div_num_dos % 6 == 0):\n",
    "    print(\"El número ingresado en divisible entre 6 pero no entre 4\")\n",
    "else: (print(\"El número ingresando no es divisible ni entre 4 ni 6\"))"
   ]
  },
  {
   "cell_type": "markdown",
   "metadata": {},
   "source": [
    "19) "
   ]
  }
 ],
 "metadata": {
  "kernelspec": {
   "display_name": "Python 3",
   "language": "python",
   "name": "python3"
  },
  "language_info": {
   "codemirror_mode": {
    "name": "ipython",
    "version": 3
   },
   "file_extension": ".py",
   "mimetype": "text/x-python",
   "name": "python",
   "nbconvert_exporter": "python",
   "pygments_lexer": "ipython3",
   "version": "3.12.0"
  }
 },
 "nbformat": 4,
 "nbformat_minor": 2
}
